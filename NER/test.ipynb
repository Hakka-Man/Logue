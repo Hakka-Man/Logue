{
 "cells": [
  {
   "cell_type": "code",
   "execution_count": 51,
   "metadata": {},
   "outputs": [],
   "source": [
    "import spacy\n",
    "import pandas as pd\n",
    "import pickle\n",
    "nlp = spacy.load('en_core_web_lg')"
   ]
  },
  {
   "cell_type": "code",
   "execution_count": 52,
   "metadata": {},
   "outputs": [],
   "source": [
    "paragraphs = list()\n",
    "paragraphs = [\"The death toll from Hurricane Ian rose Saturday to more than 77 as one of strongest and costliest storms to ever hit the U.S. pushed northward from the Carolinas leaving in its wake a trifecta of misery --- dangerous flooding, power outages and massive destruction. Ian, which slammed into Florida on Wednesday with 150 mph winds, was downgraded to a post-tropical cyclone after marching across South Carolina and was expected to weaken even more as it moved later Saturday into south-central Virginia before rolling into the mid-Atlantic.\"]"
   ]
  },
  {
   "cell_type": "code",
   "execution_count": 53,
   "metadata": {},
   "outputs": [],
   "source": [
    "modifiableWords = {\"ADJ\", \"ADV\", \"NOUN\", \"NUM\", \"PROPN\", \"VERB\"}\n",
    "labeledParagraphs = list()"
   ]
  },
  {
   "cell_type": "code",
   "execution_count": 54,
   "metadata": {},
   "outputs": [],
   "source": [
    "for paragraph in paragraphs:\n",
    "    labeledParagraph = list()\n",
    "    for token in nlp(paragraph):\n",
    "        if token.pos_ == \"NOUN\" or token.pos_ == \"PROPN\":\n",
    "            if token.ent_type_ != \"\":\n",
    "                if token.ent_type_ not in modifiableWords:\n",
    "                    modifiableWords.add(token.ent_type_)\n",
    "                labeledParagraph.append([token.text, token.ent_type_])\n",
    "                continue\n",
    "        labeledParagraph.append([token.text, token.pos_])\n",
    "    labeledParagraphs.append(labeledParagraph)"
   ]
  },
  {
   "cell_type": "code",
   "execution_count": 55,
   "metadata": {},
   "outputs": [],
   "source": [
    "with open('modifiableWords.pickle', 'wb') as handle:\n",
    "    pickle.dump(modifiableWords, handle, protocol=pickle.HIGHEST_PROTOCOL)"
   ]
  },
  {
   "cell_type": "code",
   "execution_count": 56,
   "metadata": {},
   "outputs": [],
   "source": [
    "# print(labeledParagraphs)"
   ]
  },
  {
   "cell_type": "code",
   "execution_count": 57,
   "metadata": {},
   "outputs": [],
   "source": [
    "with open('labeledParagraphs.pickle', 'wb') as handle:\n",
    "    pickle.dump(labeledParagraphs, handle, protocol=pickle.HIGHEST_PROTOCOL)"
   ]
  },
  {
   "cell_type": "code",
   "execution_count": 58,
   "metadata": {},
   "outputs": [],
   "source": [
    "wordPhonemeDict = pd.read_pickle(\"../EnglishToIPA/dict/wordPhonemeDict.pickle\")"
   ]
  },
  {
   "cell_type": "code",
   "execution_count": 59,
   "metadata": {},
   "outputs": [],
   "source": [
    "wordPosPhonemeDict = dict()\n",
    "for phoneme in wordPhonemeDict:\n",
    "    for word in wordPhonemeDict[phoneme]:\n",
    "        token = nlp(word)[0]\n",
    "        # print(token.text, token.ent_type_)\n",
    "        pos = token.pos_\n",
    "        if pos == \"NOUN\" or pos == \"PROPN\":\n",
    "            if token.ent_type_ != \"\":\n",
    "                pos = token.ent_type_\n",
    "        labeledParagraph.append([token.text, pos])\n",
    "        if (pos, phoneme) not in wordPosPhonemeDict.keys():\n",
    "            wordPosPhonemeDict[(pos, phoneme)] = list()\n",
    "        wordPosPhonemeDict[(pos, phoneme)].append(word)"
   ]
  },
  {
   "cell_type": "code",
   "execution_count": 60,
   "metadata": {},
   "outputs": [],
   "source": [
    "with open('wordPosPhonemeDict.pickle', 'wb') as handle:\n",
    "    pickle.dump(wordPosPhonemeDict, handle, protocol=pickle.HIGHEST_PROTOCOL)"
   ]
  },
  {
   "cell_type": "code",
   "execution_count": 61,
   "metadata": {},
   "outputs": [],
   "source": [
    "# print(wordPosPhonemeDict)"
   ]
  },
  {
   "cell_type": "code",
   "execution_count": null,
   "metadata": {},
   "outputs": [],
   "source": []
  }
 ],
 "metadata": {
  "kernelspec": {
   "display_name": "Python 3.8.13 ('hackmit')",
   "language": "python",
   "name": "python3"
  },
  "language_info": {
   "codemirror_mode": {
    "name": "ipython",
    "version": 3
   },
   "file_extension": ".py",
   "mimetype": "text/x-python",
   "name": "python",
   "nbconvert_exporter": "python",
   "pygments_lexer": "ipython3",
   "version": "3.8.13"
  },
  "orig_nbformat": 4,
  "vscode": {
   "interpreter": {
    "hash": "249299c404ec6d49709c945707a12154948d91cb32ea20c75cd30d4aafcb844f"
   }
  }
 },
 "nbformat": 4,
 "nbformat_minor": 2
}
