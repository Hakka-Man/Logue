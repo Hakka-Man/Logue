{
 "cells": [
  {
   "cell_type": "code",
   "execution_count": null,
   "metadata": {},
   "outputs": [],
   "source": [
    "import spacy\n",
    "import pandas as pd\n",
    "import pickle\n",
    "nlp = spacy.load('en_core_web_lg')"
   ]
  },
  {
   "cell_type": "code",
   "execution_count": null,
   "metadata": {},
   "outputs": [],
   "source": [
    "paragraphs = list()\n",
    "paragraphs = [\"As she said these words her foot slipped, and in another moment, splash! she was up to her chin in salt water. Her first idea was that she had somehow fallen into the sea, “ and in that case I can go back by railway,” she said to herself. (Alice had been to the seaside once in her life, and had come to the general conclusion, that wherever you go to on the English coast you find a number of bathing machines in the sea, some children digging in the sand with wooden spades, then a row of lodging houses, and behind them a railway station.) However, she soon made out that she was in the pool of tears which she had wept when she was nine feet high\", \"The first question of course was, how to get dry again: they had a consultation about this, and after a few minutes it seemed quite natural to Alice to find herself talking familiarly with them, as if she had known them all her life. Indeed, she had quite a long argument with the Lory, who at last turned sulky, and would only say, “ I am older than you, and must know better;” and this Alice would not allow, without knowing how old it was, and, as the Lory positively refused to tell its age, there was no more to be said.\", \"First it marked out a race-course, in a sort of circle, (“the exact shape doesn ’t matter,” it said,) and then all the party were placed along the course, here and there. There was no “One, two, three, and away,” but they began running when they liked, and left off when they liked, so that it was not easy to know when the race was over. However, when they had been running halfan-hour or so, and were quite dry again, the Dodo suddenly called out, “The race is over!” and they all crowded round it, panting, and asking, “But who has won ?”\", \"IT was the White Rabbit, trotting slowly back again, and looking anxiously about as it went, as if it had lost something ; and she heard it muttering to itself, “The Duchess ! The Duchess! Oh my dear paws! Oh my fur and whiskers ! She ’ll get me executed, as sure as ferrets are ferrets! Where can I have dropped them, I wonder!” Alice guessed in a moment that it was looking for the fan and the pair of white kid gloves, and she very goodnaturedly began hunting about for them, but they were nowhere to be seen—everything seemed to have changed since her swim in the pool, and the great hall, with the glass table and the little door, had vanished completely.\", \"So she swallowed one of the cakes, and was delighted to find that she began shrinking directly. As soon as she was small enough to get through the door, she ran out of the house, and found quite a crowd of little animals and birds waiting outside. The poor little Lizard, Bill, was in the middle, being held up by two guinea-pigs, who were giving it something out of a bottle. They all made a rush at Alice the moment she appeared, but she ran off as hard as she could, and soon found herself safe in a thick wood.\"]"
   ]
  },
  {
   "cell_type": "code",
   "execution_count": null,
   "metadata": {},
   "outputs": [],
   "source": [
    "modifiableWords = {\"ADJ\", \"ADV\", \"NOUN\", \"NUM\", \"PRON\", \"PROPN\", \"VERB\"}\n",
    "labeledParagraphs = list()"
   ]
  },
  {
   "cell_type": "code",
   "execution_count": 52,
   "metadata": {},
   "outputs": [],
   "source": [
    "with open('modifiableWords.pickle', 'wb') as handle:\n",
    "    pickle.dump(modifiableWords, handle, protocol=pickle.HIGHEST_PROTOCOL)"
   ]
  },
  {
   "cell_type": "code",
   "execution_count": null,
   "metadata": {},
   "outputs": [],
   "source": [
    "for paragraph in paragraphs:\n",
    "    labeledParagraph = list()\n",
    "    for token in nlp(paragraph):\n",
    "        # if token.pos_ == \"NOUN\" || token.pos_ == \"PROPN\"\n",
    "        labeledParagraph.append([token.text, token.pos_])\n",
    "    labeledParagraphs.append(labeledParagraph)"
   ]
  },
  {
   "cell_type": "code",
   "execution_count": null,
   "metadata": {},
   "outputs": [],
   "source": [
    "print(labeledParagraphs)"
   ]
  },
  {
   "cell_type": "code",
   "execution_count": null,
   "metadata": {},
   "outputs": [],
   "source": [
    "with open('labeledParagraphs.pickle', 'wb') as handle:\n",
    "    pickle.dump(labeledParagraphs, handle, protocol=pickle.HIGHEST_PROTOCOL)"
   ]
  },
  {
   "cell_type": "code",
   "execution_count": null,
   "metadata": {},
   "outputs": [],
   "source": [
    "wordPhonemeDict = pd.read_pickle(\"../EnglishToIPA/dict/wordPhonemeDict.pickle\")"
   ]
  },
  {
   "cell_type": "code",
   "execution_count": null,
   "metadata": {},
   "outputs": [],
   "source": [
    "wordPosPhonemeDict = dict()\n",
    "for phoneme in wordPhonemeDict:\n",
    "    for word in wordPhonemeDict[phoneme]:\n",
    "        token = nlp(word)[0]\n",
    "        # print(token.text, token.ent_type_)\n",
    "        if (token.pos_, phoneme) not in wordPosPhonemeDict.keys():\n",
    "            wordPosPhonemeDict[(token.pos_, phoneme)] = list()\n",
    "        wordPosPhonemeDict[(token.pos_, phoneme)].append(word)"
   ]
  },
  {
   "cell_type": "code",
   "execution_count": null,
   "metadata": {},
   "outputs": [],
   "source": [
    "with open('wordPosPhonemeDict.pickle', 'wb') as handle:\n",
    "    pickle.dump(wordPosPhonemeDict, handle, protocol=pickle.HIGHEST_PROTOCOL)"
   ]
  },
  {
   "cell_type": "code",
   "execution_count": null,
   "metadata": {},
   "outputs": [],
   "source": [
    "print(wordPosPhonemeDict)"
   ]
  },
  {
   "cell_type": "code",
   "execution_count": null,
   "metadata": {},
   "outputs": [],
   "source": []
  }
 ],
 "metadata": {
  "kernelspec": {
   "display_name": "Python 3.8.13 ('hackMIT')",
   "language": "python",
   "name": "python3"
  },
  "language_info": {
   "codemirror_mode": {
    "name": "ipython",
    "version": 3
   },
   "file_extension": ".py",
   "mimetype": "text/x-python",
   "name": "python",
   "nbconvert_exporter": "python",
   "pygments_lexer": "ipython3",
   "version": "3.8.13"
  },
  "orig_nbformat": 4,
  "vscode": {
   "interpreter": {
    "hash": "a043e1776649f8643479016f99de553b92c1c8dfe4498394c89c050e0fdbf356"
   }
  }
 },
 "nbformat": 4,
 "nbformat_minor": 2
}
