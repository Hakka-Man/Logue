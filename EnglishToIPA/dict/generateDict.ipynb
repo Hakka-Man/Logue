{
 "cells": [
  {
   "cell_type": "code",
   "execution_count": 1,
   "metadata": {},
   "outputs": [],
   "source": [
    "import eng_to_ipa as ipa\n",
    "import pickle\n",
    "import pandas as pd\n",
    "Lines = open('words.txt', 'r').read().splitlines()"
   ]
  },
  {
   "cell_type": "code",
   "execution_count": 2,
   "metadata": {},
   "outputs": [],
   "source": [
    "dictionary = dict()"
   ]
  },
  {
   "cell_type": "code",
   "execution_count": 3,
   "metadata": {},
   "outputs": [],
   "source": [
    "ignoreChars = ['\\'', 'ˈ', 'ˌ']\n",
    "for line in Lines:\n",
    "    if(len(line) <= 3):\n",
    "        continue\n",
    "    phonemes = ipa.convert(line)\n",
    "    for char in ignoreChars:\n",
    "        phonemes = phonemes.replace(char, '')\n",
    "    if phonemes[0] not in dictionary.keys():\n",
    "        dictionary[phonemes[0]] = list()\n",
    "    dictionary[phonemes[0]].append(line)"
   ]
  },
  {
   "cell_type": "code",
   "execution_count": 4,
   "metadata": {},
   "outputs": [],
   "source": [
    "with open('wordPhonemeDict.pickle', 'wb') as handle:\n",
    "    pickle.dump(dictionary, handle, protocol=pickle.HIGHEST_PROTOCOL)"
   ]
  },
  {
   "cell_type": "code",
   "execution_count": 5,
   "metadata": {},
   "outputs": [],
   "source": [
    "df = pd.read_pickle(\"wordPhonemeDict.pickle\")"
   ]
  },
  {
   "cell_type": "code",
   "execution_count": 21,
   "metadata": {},
   "outputs": [
    {
     "name": "stdout",
     "output_type": "stream",
     "text": [
      "['abandoned', 'abilities', 'ability', 'abortion', 'about', 'above', 'abroad', 'absorption', 'abuse', 'academy', 'accept', 'acceptable', 'acceptance', 'accepting', 'accommodate', 'accommodation', 'accommodations', 'accompanied', 'accompanying', 'accomplish', 'accomplished', 'accordance', 'according', 'accordingly', 'account', 'accountability', 'accounting', 'accounts', 'accreditation', 'accredited', 'accused', 'achieve', 'achieved', 'achievement', 'achievements', 'achieving', 'acoustic', 'acquire', 'acquired', 'across']\n",
      "['able', 'abraham', 'acer', 'acre', 'acres', 'adrian', 'aged', 'agencies', 'agency', 'agent', 'agents', 'ages', 'aging', 'aids', 'aimed', 'aims', 'alias', 'alien', 'anal', 'ancient', 'angel', 'angels', 'april', 'asia', 'asian', 'aviation', 'avon', 'ebook', 'ebooks', 'ecommerce', 'eight', 'emacs', 'eminem', 'endif', 'enquiries', 'epinions', 'epinionscom', 'espn', 'eval', 'expansys']\n",
      "['babe', 'babes', 'babies', 'baby', 'bachelor', 'back', 'backed', 'background', 'backgrounds', 'backing', 'backup', 'bacon', 'bacteria', 'bacterial', 'badge', 'badly', 'baghdad', 'bags', 'bahamas', 'bahrain', 'bailey', 'baker', 'baking', 'balance', 'balanced', 'bald', 'bali', 'ball', 'ballet', 'balloon', 'ballot', 'balls', 'baltimore', 'banana', 'band', 'bands', 'bandwidth', 'bang', 'bangbus', 'bangkok']\n"
     ]
    }
   ],
   "source": [
    "# test = list()\n",
    "# test.append(ipa.convert(Lines[0])[0])\n",
    "# test.append(ipa.convert(Lines[1])[0])\n",
    "# test.append(ipa.convert(Lines[8])[2])\n",
    "# print(dictionary[test[0]][0:40])\n",
    "# print(dictionary[test[1]][0:40])\n",
    "# print(dictionary[test[2]][0:40])"
   ]
  },
  {
   "cell_type": "code",
   "execution_count": null,
   "metadata": {},
   "outputs": [],
   "source": []
  }
 ],
 "metadata": {
  "kernelspec": {
   "display_name": "Python 3.8.13 ('hackMIT')",
   "language": "python",
   "name": "python3"
  },
  "language_info": {
   "codemirror_mode": {
    "name": "ipython",
    "version": 3
   },
   "file_extension": ".py",
   "mimetype": "text/x-python",
   "name": "python",
   "nbconvert_exporter": "python",
   "pygments_lexer": "ipython3",
   "version": "3.8.13"
  },
  "orig_nbformat": 4,
  "vscode": {
   "interpreter": {
    "hash": "a043e1776649f8643479016f99de553b92c1c8dfe4498394c89c050e0fdbf356"
   }
  }
 },
 "nbformat": 4,
 "nbformat_minor": 2
}
