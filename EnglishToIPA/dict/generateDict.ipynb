{
 "cells": [
  {
   "cell_type": "code",
   "execution_count": 1,
   "metadata": {},
   "outputs": [],
   "source": [
    "import eng_to_ipa as ipa\n",
    "import pickle\n",
    "import pandas as pd\n",
    "Lines = open('words.txt', 'r').read().splitlines()"
   ]
  },
  {
   "cell_type": "code",
   "execution_count": 2,
   "metadata": {},
   "outputs": [],
   "source": [
    "dictionary = dict()"
   ]
  },
  {
   "cell_type": "code",
   "execution_count": 3,
   "metadata": {},
   "outputs": [],
   "source": [
    "ignoreChars = ['\\'', 'ˈ', 'ˌ']\n",
    "for line in Lines:\n",
    "    if(len(line) <= 3):\n",
    "        continue\n",
    "    phonemes = ipa.convert(line)\n",
    "    for char in ignoreChars:\n",
    "        phonemes = phonemes.replace(char, '')\n",
    "    if(phonemes[0] not in dictionary.keys()):\n",
    "        dictionary[phonemes[0]] = list()\n",
    "    dictionary[phonemes[0]].append(line)"
   ]
  },
  {
   "cell_type": "code",
   "execution_count": 4,
   "metadata": {},
   "outputs": [],
   "source": [
    "with open('wordPhonemeDict.pickle', 'wb') as handle:\n",
    "    pickle.dump(dictionary, handle, protocol=pickle.HIGHEST_PROTOCOL)"
   ]
  },
  {
   "cell_type": "code",
   "execution_count": 5,
   "metadata": {},
   "outputs": [],
   "source": [
    "df = pd.read_pickle(\"wordPhonemeDict.pickle\")"
   ]
  },
  {
   "cell_type": "code",
   "execution_count": null,
   "metadata": {},
   "outputs": [],
   "source": []
  }
 ],
 "metadata": {
  "kernelspec": {
   "display_name": "Python 3.8.13 ('hackMIT')",
   "language": "python",
   "name": "python3"
  },
  "language_info": {
   "codemirror_mode": {
    "name": "ipython",
    "version": 3
   },
   "file_extension": ".py",
   "mimetype": "text/x-python",
   "name": "python",
   "nbconvert_exporter": "python",
   "pygments_lexer": "ipython3",
   "version": "3.8.13"
  },
  "orig_nbformat": 4,
  "vscode": {
   "interpreter": {
    "hash": "a043e1776649f8643479016f99de553b92c1c8dfe4498394c89c050e0fdbf356"
   }
  }
 },
 "nbformat": 4,
 "nbformat_minor": 2
}
