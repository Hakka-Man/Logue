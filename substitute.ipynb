{
 "cells": [
  {
   "cell_type": "code",
   "execution_count": null,
   "metadata": {},
   "outputs": [],
   "source": [
    "import pickle"
   ]
  },
  {
   "cell_type": "code",
   "execution_count": null,
   "metadata": {},
   "outputs": [],
   "source": [
    "with (open(\"NER/labeledParagraphs.pickle\", \"rb\")) as openfile:\n",
    "  labeledParagraphs = pickle.load(openfile)\n",
    "\n",
    "with (open(\"NER/modifiableWords.pickle\", \"rb\")) as openfile:\n",
    "  modifiableWords = pickle.load(openfile)\n",
    "\n",
    "with (open(\"NER/wordPosPhonemeDict.pickle\", \"rb\")) as openfile:\n",
    "  wordPosPhonemeDict = pickle.load(openfile)\n"
   ]
  },
  {
   "cell_type": "code",
   "execution_count": null,
   "metadata": {},
   "outputs": [],
   "source": [
    "# print(labeledParagraphs)"
   ]
  },
  {
   "cell_type": "code",
   "execution_count": 18,
   "metadata": {},
   "outputs": [
    {
     "ename": "SyntaxError",
     "evalue": "unexpected EOF while parsing (1224814573.py, line 6)",
     "output_type": "error",
     "traceback": [
      "\u001b[0;36m  Input \u001b[0;32mIn [18]\u001b[0;36m\u001b[0m\n\u001b[0;31m    # paragraph_text +=\u001b[0m\n\u001b[0m                        ^\u001b[0m\n\u001b[0;31mSyntaxError\u001b[0m\u001b[0;31m:\u001b[0m unexpected EOF while parsing\n"
     ]
    }
   ],
   "source": [
    "for paragraph in labeledParagraphs:\n",
    "  paragraph_text = \"\"\n",
    "  for word in paragraph:\n",
    "    print(word)\n",
    "    # if word[1] in modifiableWords:\n",
    "      # paragraph_text += \n",
    "    # else:"
   ]
  },
  {
   "cell_type": "code",
   "execution_count": null,
   "metadata": {},
   "outputs": [],
   "source": []
  }
 ],
 "metadata": {
  "kernelspec": {
   "display_name": "Python 3.10.4 ('hackmit')",
   "language": "python",
   "name": "python3"
  },
  "language_info": {
   "codemirror_mode": {
    "name": "ipython",
    "version": 3
   },
   "file_extension": ".py",
   "mimetype": "text/x-python",
   "name": "python",
   "nbconvert_exporter": "python",
   "pygments_lexer": "ipython3",
   "version": "3.8.13"
  },
  "orig_nbformat": 4,
  "vscode": {
   "interpreter": {
    "hash": "249299c404ec6d49709c945707a12154948d91cb32ea20c75cd30d4aafcb844f"
   }
  }
 },
 "nbformat": 4,
 "nbformat_minor": 2
}
