{
 "cells": [
  {
   "cell_type": "code",
   "execution_count": 19,
   "metadata": {},
   "outputs": [
    {
     "data": {
      "text/plain": [
       "array([ 9.15527344e-05,  2.13623047e-04,  2.44140625e-04, ...,\n",
       "       -1.80053711e-03, -1.52587891e-03, -1.67846680e-03])"
      ]
     },
     "execution_count": 19,
     "metadata": {},
     "output_type": "execute_result"
    }
   ],
   "source": [
    "import soundfile as sf\n",
    "\n",
    "\n",
    "def map_to_array(batch):\n",
    "    speech_array, _ = sf.read(batch)\n",
    "    return speech_array\n",
    "map_to_array('test2mono.flac')\n"
   ]
  },
  {
   "cell_type": "code",
   "execution_count": 9,
   "metadata": {},
   "outputs": [
    {
     "name": "stderr",
     "output_type": "stream",
     "text": [
      "/home/exitialium/miniconda3/envs/hackmit/lib/python3.8/site-packages/huggingface_hub/utils/_deprecation.py:97: FutureWarning: Deprecated argument(s) used in 'dataset_info': token. Will not be supported from version '0.12'.\n",
      "  warnings.warn(message, FutureWarning)\n",
      "Found cached dataset librispeech_asr_dummy (/home/exitialium/.cache/huggingface/datasets/patrickvonplaten___librispeech_asr_dummy/clean/2.1.0/f2c70a4d03ab4410954901bde48c54b85ca1b7f9bf7d616e7e2a72b5ee6ddbfc)\n"
     ]
    },
    {
     "name": "stdout",
     "output_type": "stream",
     "text": [
      "174160\n"
     ]
    }
   ],
   "source": [
    "from datasets import load_dataset\n",
    "ds = load_dataset(\"patrickvonplaten/librispeech_asr_dummy\", \"clean\", split=\"validation\")\n",
    "print(len(ds[0][\"audio\"][\"array\"]))"
   ]
  },
  {
   "cell_type": "code",
   "execution_count": 10,
   "metadata": {},
   "outputs": [
    {
     "data": {
      "text/plain": [
       "{'path': '/home/exitialium/.cache/huggingface/datasets/downloads/extracted/71280a06b00cb004b51932239f5813b4c754d43e8125953e700cd3ceba984ec2/dev_clean/1272/135031/1272-135031-0000.flac',\n",
       " 'array': array([-0.00018311, -0.00033569, -0.00021362, ..., -0.00323486,\n",
       "        -0.00402832, -0.00393677], dtype=float32),\n",
       " 'sampling_rate': 16000}"
      ]
     },
     "execution_count": 10,
     "metadata": {},
     "output_type": "execute_result"
    }
   ],
   "source": [
    "ds[0][\"audio\"]"
   ]
  },
  {
   "cell_type": "code",
   "execution_count": 15,
   "metadata": {},
   "outputs": [
    {
     "data": {
      "text/plain": [
       "array([ True,  True,  True, ...,  True,  True,  True])"
      ]
     },
     "execution_count": 15,
     "metadata": {},
     "output_type": "execute_result"
    }
   ],
   "source": [
    "map_to_array(ds[0][\"audio\"]['path'])"
   ]
  },
  {
   "cell_type": "code",
   "execution_count": 14,
   "metadata": {},
   "outputs": [
    {
     "data": {
      "text/plain": [
       "array([-0.00018311, -0.00033569, -0.00021362, ..., -0.00323486,\n",
       "       -0.00402832, -0.00393677], dtype=float32)"
      ]
     },
     "execution_count": 14,
     "metadata": {},
     "output_type": "execute_result"
    }
   ],
   "source": []
  },
  {
   "cell_type": "code",
   "execution_count": 17,
   "metadata": {},
   "outputs": [
    {
     "data": {
      "text/plain": [
       "'/home/exitialium/.cache/huggingface/datasets/downloads/extracted/71280a06b00cb004b51932239f5813b4c754d43e8125953e700cd3ceba984ec2/dev_clean/1272/135031/1272-135031-0000.flac'"
      ]
     },
     "execution_count": 17,
     "metadata": {},
     "output_type": "execute_result"
    }
   ],
   "source": [
    "ds[0][\"audio\"]['path']"
   ]
  },
  {
   "cell_type": "code",
   "execution_count": 18,
   "metadata": {},
   "outputs": [
    {
     "data": {
      "text/plain": [
       "{'path': '/home/exitialium/.cache/huggingface/datasets/downloads/extracted/71280a06b00cb004b51932239f5813b4c754d43e8125953e700cd3ceba984ec2/dev_clean/1272/135031/1272-135031-0000.flac',\n",
       " 'array': array([-0.00018311, -0.00033569, -0.00021362, ..., -0.00323486,\n",
       "        -0.00402832, -0.00393677], dtype=float32),\n",
       " 'sampling_rate': 16000}"
      ]
     },
     "execution_count": 18,
     "metadata": {},
     "output_type": "execute_result"
    }
   ],
   "source": [
    "ds[0][\"audio\"]"
   ]
  },
  {
   "cell_type": "code",
   "execution_count": null,
   "metadata": {},
   "outputs": [],
   "source": []
  }
 ],
 "metadata": {
  "kernelspec": {
   "display_name": "Python 3.8.13 ('hackmit')",
   "language": "python",
   "name": "python3"
  },
  "language_info": {
   "codemirror_mode": {
    "name": "ipython",
    "version": 3
   },
   "file_extension": ".py",
   "mimetype": "text/x-python",
   "name": "python",
   "nbconvert_exporter": "python",
   "pygments_lexer": "ipython3",
   "version": "3.8.13"
  },
  "orig_nbformat": 4,
  "vscode": {
   "interpreter": {
    "hash": "ac119f78188e5cf5aa1c6f75b4e881a1ea9af5cd76ea01b55255750fd318d524"
   }
  }
 },
 "nbformat": 4,
 "nbformat_minor": 2
}
